{
 "cells": [
  {
   "cell_type": "markdown",
   "id": "a8c2b3f0-9f10-414c-8a55-964721167c97",
   "metadata": {},
   "source": [
    "# Testing Layers"
   ]
  },
  {
   "cell_type": "code",
   "execution_count": null,
   "id": "fc85a763-cd96-4eab-85d1-d82adfe0eea1",
   "metadata": {},
   "outputs": [],
   "source": [
    "import os\n",
    "import time\n",
    "\n",
    "from felt_python import (\n",
    "    create_map,\n",
    "    delete_map,\n",
    "    get_map_details,\n",
    "    list_layers,\n",
    "    upload_file,\n",
    "    upload_url,\n",
    "    upload_dataframe,\n",
    "    upload_geodataframe,\n",
    "    refresh_file_layer,\n",
    "    refresh_url_layer,\n",
    "    get_layer_details,\n",
    "    update_layer_style\n",
    ")\n",
    "\n",
    "os.environ[\"FELT_API_TOKEN\"] = \"<YOUR_API_TOKEN>\""
   ]
  },
  {
   "cell_type": "markdown",
   "id": "d902938d-78e3-4d2b-97a2-1c63e5662083",
   "metadata": {},
   "source": [
    "# Maps\n",
    "\n",
    "Create a map and retrieve its details, storing the ID in a variable"
   ]
  },
  {
   "cell_type": "code",
   "execution_count": null,
   "id": "adbc9b98-1d76-42c4-8311-db06508b248d",
   "metadata": {},
   "outputs": [],
   "source": [
    "resp = create_map(\n",
    "    title=\"A felt-py map\",\n",
    "    lat=40,\n",
    "    lon=-3,\n",
    "    public_access=\"private\",\n",
    ")\n",
    "map_id = resp[\"id\"]"
   ]
  },
  {
   "cell_type": "code",
   "execution_count": null,
   "id": "6a7027f9-1b1c-434e-ba1e-409fb52df3d7",
   "metadata": {},
   "outputs": [],
   "source": [
    "get_map_details(map_id)"
   ]
  },
  {
   "cell_type": "markdown",
   "id": "fe77003c-cf6c-4dc7-a854-55cc964a466f",
   "metadata": {},
   "source": [
    "# Layers\n",
    "\n",
    "Create layers from file, URL and (Geo)DataFrame uploads"
   ]
  },
  {
   "cell_type": "markdown",
   "id": "ba8dc97e-7c91-4e61-b7a7-ea86892cc046",
   "metadata": {},
   "source": [
    "## Upload a file"
   ]
  },
  {
   "cell_type": "code",
   "execution_count": null,
   "id": "bd6045fa-a226-4072-8e4a-924470638347",
   "metadata": {},
   "outputs": [],
   "source": [
    "layer_resp = upload_file(map_id, \"tests/fixtures/null-island-points-sample.geojson\", \"The Points Layer\")\n",
    "layer_id = layer_resp[\"layer_id\"]"
   ]
  },
  {
   "cell_type": "markdown",
   "id": "62dd0688",
   "metadata": {},
   "source": [
    "# Check upload status"
   ]
  },
  {
   "cell_type": "code",
   "execution_count": null,
   "id": "39488500",
   "metadata": {},
   "outputs": [],
   "source": [
    "while get_layer_details(map_id, layer_id)[\"progress\"] < 100:\n",
    "    print(\"Waiting for layer to finish processing...\")\n",
    "    time.sleep(5)"
   ]
  },
  {
   "cell_type": "markdown",
   "id": "050e2bc0-30e4-4f4b-83cf-9e22f91df1e8",
   "metadata": {},
   "source": [
    "### Refresh file upload\n",
    "\n",
    "Wait for upload to finish first"
   ]
  },
  {
   "cell_type": "code",
   "execution_count": null,
   "id": "22190774-d547-4802-bc68-c71d38ef8968",
   "metadata": {
    "scrolled": true
   },
   "outputs": [],
   "source": [
    "refresh_file_layer(map_id, layer_id, file_name=\"tests/fixtures/null-island-points.geojson\")"
   ]
  },
  {
   "cell_type": "markdown",
   "id": "1d33a1eb-6c8a-471f-b1a7-f83bac440db0",
   "metadata": {},
   "source": [
    "## Upload a URL"
   ]
  },
  {
   "cell_type": "code",
   "execution_count": null,
   "id": "07d46bab-6721-451e-8f63-83017f2cf974",
   "metadata": {},
   "outputs": [],
   "source": [
    "live_earthquakes_url = \"https://earthquake.usgs.gov/earthquakes/feed/v1.0/summary/all_hour.geojson\"\n",
    "url_upload = upload_url(map_id, live_earthquakes_url, \"Live Earthquakes\")\n",
    "url_layer_id = url_upload[\"layer_id\"]"
   ]
  },
  {
   "cell_type": "markdown",
   "id": "feaa457c-9695-4451-a783-45bb476e1574",
   "metadata": {},
   "source": [
    "### Refresh URL upload\n",
    "\n",
    "Wait for upload to finish first"
   ]
  },
  {
   "cell_type": "code",
   "execution_count": null,
   "id": "a7021996-4d4a-4276-89e0-88e8d501bfe0",
   "metadata": {},
   "outputs": [],
   "source": [
    "while get_layer_details(map_id, url_layer_id)[\"progress\"] < 100:\n",
    "    print(\"Waiting for layer to finish processing...\")\n",
    "    time.sleep(5)\n",
    "refresh_url_layer(map_id, url_layer_id)"
   ]
  },
  {
   "cell_type": "markdown",
   "id": "adc9d25b-a64c-4c7d-8463-20d13dcad10a",
   "metadata": {},
   "source": [
    "# Styling"
   ]
  },
  {
   "cell_type": "markdown",
   "id": "63ac1757-b483-4f51-baae-a5f3f8adc4f7",
   "metadata": {},
   "source": [
    "Fetch style of file upload layer"
   ]
  },
  {
   "cell_type": "code",
   "execution_count": null,
   "id": "6519d2bb-6223-490b-9eee-7e0d54052092",
   "metadata": {},
   "outputs": [],
   "source": [
    "current_style = get_layer_details(map_id, layer_id)[\"style\"]\n",
    "current_style"
   ]
  },
  {
   "cell_type": "markdown",
   "id": "c37f77cc-fcba-4906-a76c-23ad51abd618",
   "metadata": {},
   "source": [
    "Update style"
   ]
  },
  {
   "cell_type": "code",
   "execution_count": null,
   "id": "e3887f71-e711-45d1-b1a6-8b42b8039a3c",
   "metadata": {},
   "outputs": [],
   "source": [
    "new_style = current_style.copy()\n",
    "new_style[\"style\"][\"color\"] = \"red\"\n",
    "new_style[\"style\"][\"size\"] = 20\n",
    "update_layer_style(map_id, layer_id, new_style)"
   ]
  },
  {
   "cell_type": "markdown",
   "id": "1649c24f-845b-4144-b710-45ff72852c18",
   "metadata": {},
   "source": [
    "# DataFrames and GeoDataFrames"
   ]
  },
  {
   "cell_type": "code",
   "execution_count": null,
   "id": "f96b00c0",
   "metadata": {},
   "outputs": [],
   "source": [
    "import pandas as pd\n",
    "\n",
    "df = pd.read_csv(\"tests/fixtures/null-island-polygons-wkt.csv\")\n",
    "upload_dataframe(map_id, df, \"Polygons from a CSV\")"
   ]
  },
  {
   "cell_type": "code",
   "execution_count": null,
   "id": "6db22864-1ebd-4b3d-9aec-7594e856b5a0",
   "metadata": {},
   "outputs": [],
   "source": [
    "import geopandas as gpd\n",
    "\n",
    "gdf = gpd.read_file('tests/fixtures/null-island-points.geojson')\n",
    "upload_geodataframe(map_id, gdf, layer_name=\"GeoPandas Upload\")"
   ]
  },
  {
   "cell_type": "markdown",
   "id": "0176c22b",
   "metadata": {},
   "source": [
    "## List all uploaded layers"
   ]
  },
  {
   "cell_type": "code",
   "execution_count": null,
   "id": "32bfb2c2",
   "metadata": {},
   "outputs": [],
   "source": [
    "list_layers(map_id)"
   ]
  },
  {
   "cell_type": "markdown",
   "id": "e3574d06-bfbd-46bc-a86e-b70be7167cbf",
   "metadata": {},
   "source": [
    "# Cleanup"
   ]
  },
  {
   "cell_type": "code",
   "execution_count": null,
   "id": "ba667020-97cd-4988-bd70-561c2e862668",
   "metadata": {},
   "outputs": [],
   "source": [
    "delete_map(map_id)"
   ]
  }
 ],
 "metadata": {
  "kernelspec": {
   "display_name": "Python 3 (ipykernel)",
   "language": "python",
   "name": "python3"
  },
  "language_info": {
   "codemirror_mode": {
    "name": "ipython",
    "version": 3
   },
   "file_extension": ".py",
   "mimetype": "text/x-python",
   "name": "python",
   "nbconvert_exporter": "python",
   "pygments_lexer": "ipython3",
   "version": "3.11.6"
  }
 },
 "nbformat": 4,
 "nbformat_minor": 5
}
