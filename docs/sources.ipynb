{
 "cells": [
  {
   "cell_type": "markdown",
   "metadata": {},
   "source": [
    "# Sources"
   ]
  },
  {
   "cell_type": "code",
   "execution_count": null,
   "metadata": {},
   "outputs": [],
   "source": [
    "import os\n",
    "\n",
    "from felt_python import (\n",
    "    list_sources,\n",
    "    create_source,\n",
    "    get_source,\n",
    "    update_source,\n",
    "    delete_source,\n",
    "    sync_source,\n",
    "    create_map,\n",
    "    add_source_layer,\n",
    "    delete_map\n",
    ")\n",
    "\n",
    "os.environ[\"FELT_API_TOKEN\"] = \"<YOUR_API_TOKEN>\""
   ]
  },
  {
   "cell_type": "markdown",
   "metadata": {},
   "source": [
    "# List available sources"
   ]
  },
  {
   "cell_type": "code",
   "execution_count": null,
   "metadata": {},
   "outputs": [],
   "source": [
    "sources = list_sources()\n",
    "sources"
   ]
  },
  {
   "cell_type": "markdown",
   "metadata": {},
   "source": [
    "# Create a source\n",
    "\n",
    "Below are examples for different source types. Uncomment the one you want to use."
   ]
  },
  {
   "cell_type": "code",
   "execution_count": null,
   "metadata": {},
   "outputs": [],
   "source": [
    "# Example 1: Create a PostgreSQL source\n",
    "\"\"\"\n",
    "postgres_source = create_source(\n",
    "    name=\"My PostgreSQL Source\",\n",
    "    connection={\n",
    "        \"type\": \"postgresql\",\n",
    "        \"host\": \"your-postgres-host.example.com\",\n",
    "        \"port\": 5432,\n",
    "        \"database\": \"your_database\",\n",
    "        \"user\": \"your_username\",\n",
    "        \"password\": \"your_password\"\n",
    "    },\n",
    "    permissions={\n",
    "        \"type\": \"workspace_editors\"  # Share with all workspace editors\n",
    "    }\n",
    ")\n",
    "source_id = postgres_source[\"id\"]\n",
    "\"\"\"\n",
    "\n",
    "# Example 2: Create a BigQuery source\n",
    "\"\"\"\n",
    "bigquery_source = create_source(\n",
    "    name=\"My BigQuery Source\",\n",
    "    connection={\n",
    "        \"type\": \"bigquery\",\n",
    "        \"project\": \"your-gcp-project\",\n",
    "        \"dataset\": \"your_dataset\",\n",
    "        \"credentials\": \"BASE64_ENCODED_SERVICE_ACCOUNT_JSON\"\n",
    "    },\n",
    "    permissions={\n",
    "        \"type\": \"source_owner\"  # Only accessible to you\n",
    "    }\n",
    ")\n",
    "source_id = bigquery_source[\"id\"]\n",
    "\"\"\"\n",
    "\n",
    "# Example 3: Create a WMS/WMTS source\n",
    "wms_source = create_source(\n",
    "    name=\"Public WMS Source\",\n",
    "    connection={\n",
    "        \"type\": \"wms_wmts\",\n",
    "        \"url\": \"https://basemap.nationalmap.gov/arcgis/services/USGSTopo/MapServer/WMSServer\"\n",
    "    },\n",
    "    permissions={\n",
    "        \"type\": \"workspace_editors\"  # Share with all workspace editors\n",
    "    }\n",
    ")\n",
    "source_id = wms_source[\"id\"]\n",
    "source_id"
   ]
  },
  {
   "cell_type": "markdown",
   "metadata": {},
   "source": [
    "# Get source details"
   ]
  },
  {
   "cell_type": "code",
   "execution_count": null,
   "metadata": {},
   "outputs": [],
   "source": [
    "source_details = get_source(source_id)\n",
    "source_details"
   ]
  },
  {
   "cell_type": "markdown",
   "metadata": {},
   "source": [
    "# Update a source"
   ]
  },
  {
   "cell_type": "code",
   "execution_count": null,
   "metadata": {},
   "outputs": [],
   "source": [
    "updated_source = update_source(\n",
    "    source_id=source_id,\n",
    "    name=\"Updated WMS Source\",\n",
    "    # You can also update connection details if needed\n",
    "    connection={\n",
    "        \"type\": \"wms_wmts\",\n",
    "        \"url\": \"https://basemap.nationalmap.gov/arcgis/services/USGSTopo/MapServer/WMSServer\"\n",
    "    }\n",
    ")\n",
    "updated_source"
   ]
  },
  {
   "cell_type": "markdown",
   "metadata": {},
   "source": [
    "# Synchronize a source\n",
    "\n",
    "This triggers a synchronization of the source to update datasets."
   ]
  },
  {
   "cell_type": "code",
   "execution_count": null,
   "metadata": {},
   "outputs": [],
   "source": [
    "synced_source = sync_source(source_id)\n",
    "synced_source"
   ]
  },
  {
   "cell_type": "markdown",
   "metadata": {},
   "source": [
    "# Create a map and add a layer from the source"
   ]
  },
  {
   "cell_type": "code",
   "execution_count": null,
   "metadata": {},
   "outputs": [],
   "source": [
    "# Create a map\n",
    "map_resp = create_map(\n",
    "    title=\"Map with source layers\",\n",
    "    lat=39.8283,\n",
    "    lon=-98.5795,  # Center of USA\n",
    "    zoom=4,\n",
    "    public_access=\"private\"\n",
    ")\n",
    "map_id = map_resp[\"id\"]\n",
    "\n",
    "# Wait for source synchronization to complete\n",
    "import time\n",
    "for i in range(60):  # Wait up to 5 minutes\n",
    "    current_source = get_source(source_id)\n",
    "    if current_source[\"sync_status\"] == \"completed\":\n",
    "        break\n",
    "    print(f\"Waiting for source sync... Status: {current_source['sync_status']}\")\n",
    "    time.sleep(5)\n",
    "\n",
    "# List available datasets in the source\n",
    "print(f\"Available datasets: {len(current_source.get('datasets', []))}\")\n",
    "for dataset in current_source.get('datasets', [])[:5]:  # Show first 5 datasets\n",
    "    print(f\"- {dataset.get('name')} (ID: {dataset.get('id')})\")"
   ]
  },
  {
   "cell_type": "code",
   "execution_count": null,
   "metadata": {},
   "outputs": [],
   "source": [
    "# Choose a dataset from the source\n",
    "if current_source.get('datasets'):\n",
    "    dataset_id = current_source['datasets'][0]['id']\n",
    "    \n",
    "    # Add a layer from the source dataset\n",
    "    layer_result = add_source_layer(\n",
    "        map_id=map_id,\n",
    "        source_layer_params={\n",
    "            \"from\": \"dataset\",\n",
    "            \"dataset_id\": dataset_id\n",
    "        }\n",
    "    )\n",
    "    layer_result\n",
    "    \n",
    "# For SQL sources, you could use SQL query:\n",
    "\"\"\"\n",
    "sql_layer = add_source_layer(\n",
    "    map_id=map_id,\n",
    "    source_layer_params={\n",
    "        \"from\": \"sql\",\n",
    "        \"source_id\": source_id,\n",
    "        \"query\": \"SELECT * FROM your_table LIMIT 100\"\n",
    "    }\n",
    ")\n",
    "\"\"\""
   ]
  },
  {
   "cell_type": "markdown",
   "metadata": {},
   "source": [
    "# Clean up\n",
    "\n",
    "Delete the map and source we created"
   ]
  },
  {
   "cell_type": "code",
   "execution_count": null,
   "metadata": {},
   "outputs": [],
   "source": [
    "# Delete the map\n",
    "delete_map(map_id)\n",
    "\n",
    "# Delete the source\n",
    "delete_source(source_id)\n",
    "\n",
    "# Verify source is gone\n",
    "sources_after = list_sources()\n",
    "print(f\"Source still exists: {any(s['id'] == source_id for s in sources_after)}\")"
   ]
  }
 ],
 "metadata": {
  "kernelspec": {
   "display_name": "Python 3 (ipykernel)",
   "language": "python",
   "name": "python3"
  },
  "language_info": {
   "codemirror_mode": {
    "name": "ipython",
    "version": 3
   },
   "file_extension": ".py",
   "mimetype": "text/x-python",
   "name": "python",
   "nbconvert_exporter": "python",
   "pygments_lexer": "ipython3",
   "version": "3.10.13"
  }
 },
 "nbformat": 4,
 "nbformat_minor": 4
}