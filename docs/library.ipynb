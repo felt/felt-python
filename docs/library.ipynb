{
 "cells": [
  {
   "cell_type": "markdown",
   "metadata": {},
   "source": [
    "# Library"
   ]
  },
  {
   "cell_type": "code",
   "execution_count": null,
   "metadata": {},
   "outputs": [],
   "source": [
    "import os\n",
    "import time\n",
    "\n",
    "from felt_python import (\n",
    "    list_library_layers,\n",
    "    create_map,\n",
    "    delete_map,\n",
    "    upload_file,\n",
    "    get_layer,\n",
    "    publish_layer\n",
    ")\n",
    "\n",
    "os.environ[\"FELT_API_TOKEN\"] = \"<YOUR_API_TOKEN>\""
   ]
  },
  {
   "cell_type": "markdown",
   "metadata": {},
   "source": [
    "# List layers in the workspace library"
   ]
  },
  {
   "cell_type": "code",
   "execution_count": null,
   "metadata": {},
   "outputs": [],
   "source": [
    "workspace_library = list_library_layers(source=\"workspace\")\n",
    "\n",
    "print(f\"Number of layers in workspace library: {len(workspace_library['layers'])}\")\n",
    "print(f\"Number of layer groups in workspace library: {len(workspace_library['layer_groups'])}\")\n",
    "\n",
    "# Show first few layers if any\n",
    "for i, layer in enumerate(workspace_library['layers'][:3]):\n",
    "    print(f\"Layer {i+1}: {layer['name']} (ID: {layer['id']})\")"
   ]
  },
  {
   "cell_type": "markdown",
   "metadata": {},
   "source": [
    "# List layers in the Felt data library"
   ]
  },
  {
   "cell_type": "code",
   "execution_count": null,
   "metadata": {},
   "outputs": [],
   "source": [
    "felt_library = list_library_layers(source=\"felt\")\n",
    "\n",
    "print(f\"Number of layers in Felt library: {len(felt_library['layers'])}\")\n",
    "print(f\"Number of layer groups in Felt library: {len(felt_library['layer_groups'])}\")\n",
    "\n",
    "# Show first few layers\n",
    "for i, layer in enumerate(felt_library['layers'][:5]):\n",
    "    print(f\"Layer {i+1}: {layer['name']} (ID: {layer['id']})\")"
   ]
  },
  {
   "cell_type": "markdown",
   "metadata": {},
   "source": [
    "# Create a map with a layer and publish it to the library"
   ]
  },
  {
   "cell_type": "code",
   "execution_count": null,
   "metadata": {},
   "outputs": [],
   "source": [
    "# Create a map\n",
    "map_resp = create_map(\n",
    "    title=\"Map for testing library\",\n",
    "    lat=40,\n",
    "    lon=-3,\n",
    "    zoom=5,\n",
    "    public_access=\"private\"\n",
    ")\n",
    "map_id = map_resp[\"id\"]\n",
    "\n",
    "# Upload a layer\n",
    "layer_resp = upload_file(\n",
    "    map_id=map_id,\n",
    "    file_name=\"fixtures/null-island-points.geojson\",\n",
    "    layer_name=\"Points to publish\"\n",
    ")\n",
    "layer_id = layer_resp[\"layer_id\"]\n",
    "\n",
    "# Wait for layer processing\n",
    "while get_layer(map_id, layer_id)[\"progress\"] < 100:\n",
    "    print(\"Waiting for layer to finish processing...\")\n",
    "    time.sleep(5)",
    "print(\"Layer ready...\")\n"
   ]
  },
  {
   "cell_type": "markdown",
   "metadata": {},
   "source": [
    "# Publish the layer to the library"
   ]
  },
  {
   "cell_type": "code",
   "execution_count": null,
   "metadata": {},
   "outputs": [],
   "source": [
    "published = publish_layer(\n",
    "    map_id=map_id,\n",
    "    layer_id=layer_id,\n",
    "    name=\"Published test layer\"\n",
    ")\n",
    "\n",
    "print(f\"Layer published: {published['name']}\")"
   ]
  },
  {
   "cell_type": "markdown",
   "metadata": {},
   "source": [
    "# Verify the layer is in the library"
   ]
  },
  {
   "cell_type": "code",
   "execution_count": null,
   "metadata": {},
   "outputs": [],
   "source": [
    "updated_library = list_library_layers(source=\"workspace\")\n",
    "\n",
    "print(f\"Number of layers in workspace library after publishing: {len(updated_library['layers'])}\")\n",
    "\n",
    "# Try to find our published layer\n",
    "published_found = any(layer['name'] == \"Published test layer\" for layer in updated_library['layers'])\n",
    "print(f\"Published layer found in library: {published_found}\")"
   ]
  },
  {
   "cell_type": "markdown",
   "metadata": {},
   "source": [
    "# List all libraries (Felt and workspace)"
   ]
  },
  {
   "cell_type": "code",
   "execution_count": null,
   "metadata": {},
   "outputs": [],
   "source": [
    "all_libraries = list_library_layers(source=\"all\")\n",
    "\n",
    "print(f\"Total number of layers in all libraries: {len(all_libraries['layers'])}\")\n",
    "print(f\"Total number of layer groups in all libraries: {len(all_libraries['layer_groups'])}\")"
   ]
  },
  {
   "cell_type": "markdown",
   "metadata": {},
   "source": [
    "# Clean up"
   ]
  },
  {
   "cell_type": "code",
   "execution_count": null,
   "metadata": {},
   "outputs": [],
   "source": [
    "delete_map(map_id)"
   ]
  }
 ],
 "metadata": {
  "kernelspec": {
   "display_name": "Python 3 (ipykernel)",
   "language": "python",
   "name": "python3"
  },
  "language_info": {
   "codemirror_mode": {
    "name": "ipython",
    "version": 3
   },
   "file_extension": ".py",
   "mimetype": "text/x-python",
   "name": "python",
   "nbconvert_exporter": "python",
   "pygments_lexer": "ipython3",
   "version": "3.10.13"
  }
 },
 "nbformat": 4,
 "nbformat_minor": 4
}