{
 "cells": [
  {
   "cell_type": "markdown",
   "metadata": {},
   "source": [
    "# Testing Maps"
   ]
  },
  {
   "cell_type": "code",
   "execution_count": null,
   "metadata": {},
   "outputs": [],
   "source": [
    "import os\n",
    "\n",
    "from felt_python import (\n",
    "    create_map,\n",
    "    delete_map,\n",
    "    get_map_details,\n",
    "    update_map,\n",
    "    move_map\n",
    ")\n",
    "\n",
    "os.environ[\"FELT_API_TOKEN\"] = \"<YOUR_API_TOKEN>\""
   ]
  },
  {
   "cell_type": "markdown",
   "metadata": {},
   "source": [
    "# Creating a new map\n",
    "\n",
    "Create a map and store it's ID in a variable"
   ]
  },
  {
   "cell_type": "code",
   "execution_count": null,
   "metadata": {},
   "outputs": [],
   "source": [
    "resp = create_map(\n",
    "    title=\"A felt-py map\",\n",
    "    lat=40,\n",
    "    lon=-3,\n",
    "    public_access=\"private\",\n",
    ")\n",
    "map_id = resp[\"id\"]"
   ]
  },
  {
   "cell_type": "markdown",
   "metadata": {},
   "source": [
    "# Retrieving details from an existing map"
   ]
  },
  {
   "cell_type": "code",
   "execution_count": null,
   "metadata": {},
   "outputs": [],
   "source": [
    "get_map_details(map_id)"
   ]
  },
  {
   "cell_type": "markdown",
   "metadata": {},
   "source": [
    "# Updating a map\n",
    "\n",
    "You can update a map's title, description and access permissions."
   ]
  },
  {
   "cell_type": "code",
   "execution_count": null,
   "metadata": {},
   "outputs": [],
   "source": [
    "resp = update_map(\n",
    "    new_title=\"A felt-py map with an update\",\n",
    "    map_id=map_id\n",
    ")"
   ]
  },
  {
   "attachments": {},
   "cell_type": "markdown",
   "metadata": {},
   "source": [
    "# Moving a map\n",
    "\n",
    "You can move a map from one project to another.\n",
    "\n",
    "resp = move_map(\n",
    "    project_id=\"[YOUR PROJECT ID]\",\n",
    "    map_id=map_id\n",
    ")"
   ]
  },
  {
   "cell_type": "markdown",
   "metadata": {},
   "source": [
    "# Deleting a map"
   ]
  },
  {
   "cell_type": "code",
   "execution_count": null,
   "metadata": {},
   "outputs": [],
   "source": [
    "delete_map(map_id)"
   ]
  }
 ],
 "metadata": {
  "kernelspec": {
   "display_name": "Python 3 (ipykernel)",
   "language": "python",
   "name": "python3"
  },
  "language_info": {
   "codemirror_mode": {
    "name": "ipython",
    "version": 3
   },
   "file_extension": ".py",
   "mimetype": "text/x-python",
   "name": "python",
   "nbconvert_exporter": "python",
   "pygments_lexer": "ipython3",
   "version": "3.10.13"
  }
 },
 "nbformat": 4,
 "nbformat_minor": 4
}
