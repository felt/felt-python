{
 "cells": [
  {
   "cell_type": "markdown",
   "metadata": {},
   "source": [
    "# Testing Elements"
   ]
  },
  {
   "cell_type": "code",
   "execution_count": null,
   "metadata": {},
   "outputs": [],
   "source": [
    "import os\n",
    "\n",
    "from felt_python import (\n",
    "    create_map,\n",
    "    delete_map,\n",
    "    list_elements,\n",
    "    # list_element_groups,\n",
    "    # list_elements_in_group,\n",
    "    post_elements,\n",
    "    delete_element,\n",
    ")\n",
    "\n",
    "os.environ[\"FELT_API_TOKEN\"] = \"<YOUR_API_TOKEN>\""
   ]
  },
  {
   "cell_type": "markdown",
   "metadata": {},
   "source": [
    "# Maps\n",
    "\n",
    "Create a map and retrieve its details, storing the ID in a variable"
   ]
  },
  {
   "cell_type": "code",
   "execution_count": null,
   "metadata": {},
   "outputs": [],
   "source": [
    "resp = create_map(\n",
    "    title=\"A felt-py map for testing elements\",\n",
    "    lat=40,\n",
    "    lon=-3,\n",
    "    public_access=\"private\",\n",
    ")\n",
    "map_id = resp[\"id\"]\n",
    "resp[\"url\"]"
   ]
  },
  {
   "cell_type": "markdown",
   "metadata": {},
   "source": [
    "# Create elements\n",
    "\n",
    "Create pins in Madrid and Barcelona"
   ]
  },
  {
   "cell_type": "code",
   "execution_count": null,
   "metadata": {},
   "outputs": [],
   "source": [
    "# GeoJSON with points for Madrid and Barcelona\n",
    "geojson_feature_collection = {\n",
    "    \"type\": \"FeatureCollection\",\n",
    "    \"features\": [\n",
    "        {\n",
    "            \"type\": \"Feature\",\n",
    "            \"geometry\": {\"type\": \"Point\", \"coordinates\": [-3.70379, 40.416775]},\n",
    "            \"properties\": {\"name\": \"Madrid\"},\n",
    "        },\n",
    "        {\n",
    "            \"type\": \"Feature\",\n",
    "            \"geometry\": {\"type\": \"Point\", \"coordinates\": [2.173403, 41.385063]},\n",
    "            \"properties\": {\"name\": \"Barcelona\"},\n",
    "        },\n",
    "    ],\n",
    "}\n",
    "\n",
    "post_elements(map_id, geojson_feature_collection)"
   ]
  },
  {
   "cell_type": "markdown",
   "metadata": {},
   "source": [
    "# List elements"
   ]
  },
  {
   "cell_type": "code",
   "execution_count": null,
   "metadata": {},
   "outputs": [],
   "source": [
    "elements = list_elements(map_id)"
   ]
  },
  {
   "cell_type": "markdown",
   "metadata": {},
   "source": [
    "# Update elements\n",
    "\n",
    "Update the Barcelona pin's color to blue"
   ]
  },
  {
   "cell_type": "code",
   "execution_count": null,
   "metadata": {},
   "outputs": [],
   "source": [
    "# Update the Barcelona element, making it blue\n",
    "barcelona_element = [el for el in elements[\"features\"] if el[\"properties\"][\"name\"] == \"Barcelona\"][0]\n",
    "barcelona_element_id = barcelona_element[\"properties\"][\"felt:id\"]\n",
    "\n",
    "barcelona_element[\"properties\"][\"felt:color\"] = \"#0000FF\"\n",
    "barcelona_feature_collection = {\"type\": \"FeatureCollection\", \"features\": [barcelona_element]}\n",
    "post_elements(map_id, barcelona_feature_collection)"
   ]
  },
  {
   "cell_type": "markdown",
   "metadata": {},
   "source": [
    "# Delete the Barcelona element"
   ]
  },
  {
   "cell_type": "code",
   "execution_count": null,
   "metadata": {},
   "outputs": [],
   "source": [
    "delete_element(map_id, barcelona_element_id)"
   ]
  },
  {
   "cell_type": "markdown",
   "metadata": {},
   "source": [
    "## Delete map"
   ]
  },
  {
   "cell_type": "code",
   "execution_count": null,
   "metadata": {},
   "outputs": [],
   "source": [
    "delete_map(map_id)"
   ]
  }
 ],
 "metadata": {
  "kernelspec": {
   "display_name": "Python 3",
   "language": "python",
   "name": "python3"
  },
  "language_info": {
   "codemirror_mode": {
    "name": "ipython",
    "version": 3
   },
   "file_extension": ".py",
   "mimetype": "text/x-python",
   "name": "python",
   "nbconvert_exporter": "python",
   "pygments_lexer": "ipython3",
   "version": "3.10.13"
  }
 },
 "nbformat": 4,
 "nbformat_minor": 2
}
