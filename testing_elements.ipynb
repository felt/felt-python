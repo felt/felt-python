{
 "cells": [
  {
   "cell_type": "markdown",
   "metadata": {},
   "source": [
    "# Testing Elements"
   ]
  },
  {
   "cell_type": "code",
   "execution_count": 10,
   "metadata": {},
   "outputs": [],
   "source": [
    "import os\n",
    "\n",
    "from felt_python import (\n",
    "    create_map,\n",
    "    delete_map,\n",
    "    list_elements,\n",
    "    # list_element_groups,\n",
    "    # list_elements_in_group,\n",
    "    post_elements,\n",
    "    delete_element,\n",
    "    post_element_group,\n",
    ")\n",
    "\n",
    "os.environ[\"FELT_API_TOKEN\"] = \"<YOUR_API_TOKEN>\""
   ]
  },
  {
   "cell_type": "markdown",
   "metadata": {},
   "source": [
    "# Maps\n",
    "\n",
    "Create a map and retrieve its details, storing the ID in a variable"
   ]
  },
  {
   "cell_type": "code",
   "execution_count": 11,
   "metadata": {},
   "outputs": [
    {
     "data": {
      "text/plain": [
       "'https://felt.com/map/A-felt-py-map-for-testing-elements-SOLY09ArcSr9ByXktI3Di6SD'"
      ]
     },
     "execution_count": 11,
     "metadata": {},
     "output_type": "execute_result"
    }
   ],
   "source": [
    "resp = create_map(\n",
    "    title=\"A felt-py map for testing elements\",\n",
    "    lat=40,\n",
    "    lon=-3,\n",
    "    public_access=\"private\",\n",
    ")\n",
    "map_id = resp[\"id\"]\n",
    "resp[\"url\"]"
   ]
  },
  {
   "cell_type": "markdown",
   "metadata": {},
   "source": [
    "# Create elements\n",
    "\n",
    "Create pins in Madrid and Barcelona"
   ]
  },
  {
   "cell_type": "code",
   "execution_count": 12,
   "metadata": {},
   "outputs": [
    {
     "data": {
      "text/plain": [
       "{'type': 'FeatureCollection',\n",
       " 'features': [{'geometry': {'coordinates': [-3.70379, 40.416775],\n",
       "    'crs': {'properties': {'name': 'EPSG:4326'}, 'type': 'name'},\n",
       "    'type': 'Point'},\n",
       "   'properties': {'name': 'Madrid',\n",
       "    'felt:color': '#C93535',\n",
       "    'felt:id': '9BlB5C1wYTvaWZP3WxkLnYB',\n",
       "    'felt:locked': False,\n",
       "    'felt:ordering': 1728582279322499,\n",
       "    'felt:symbol': 'dot',\n",
       "    'felt:type': 'Place'},\n",
       "   'type': 'Feature'},\n",
       "  {'geometry': {'coordinates': [2.173403, 41.385063],\n",
       "    'crs': {'properties': {'name': 'EPSG:4326'}, 'type': 'name'},\n",
       "    'type': 'Point'},\n",
       "   'properties': {'name': 'Barcelona',\n",
       "    'felt:color': '#C93535',\n",
       "    'felt:id': 'BNBv4Az8Tv6a213d52wS4A',\n",
       "    'felt:locked': False,\n",
       "    'felt:ordering': 1728582279324389,\n",
       "    'felt:symbol': 'dot',\n",
       "    'felt:type': 'Place'},\n",
       "   'type': 'Feature'}]}"
      ]
     },
     "execution_count": 12,
     "metadata": {},
     "output_type": "execute_result"
    }
   ],
   "source": [
    "# GeoJSON with points for Madrid and Barcelona\n",
    "geojson_feature_collection = {\n",
    "    \"type\": \"FeatureCollection\",\n",
    "    \"features\": [\n",
    "        {\n",
    "            \"type\": \"Feature\",\n",
    "            \"geometry\": {\"type\": \"Point\", \"coordinates\": [-3.70379, 40.416775]},\n",
    "            \"properties\": {\"name\": \"Madrid\"},\n",
    "        },\n",
    "        {\n",
    "            \"type\": \"Feature\",\n",
    "            \"geometry\": {\"type\": \"Point\", \"coordinates\": [2.173403, 41.385063]},\n",
    "            \"properties\": {\"name\": \"Barcelona\"},\n",
    "        },\n",
    "    ],\n",
    "}\n",
    "\n",
    "post_elements(map_id, geojson_feature_collection)"
   ]
  },
  {
   "cell_type": "markdown",
   "metadata": {},
   "source": [
    "# List elements"
   ]
  },
  {
   "cell_type": "code",
   "execution_count": 13,
   "metadata": {},
   "outputs": [],
   "source": [
    "elements = list_elements(map_id)"
   ]
  },
  {
   "cell_type": "markdown",
   "metadata": {},
   "source": [
    "# Update elements\n",
    "\n",
    "Update the Barcelona pin's color to blue"
   ]
  },
  {
   "cell_type": "code",
   "execution_count": 14,
   "metadata": {},
   "outputs": [
    {
     "data": {
      "text/plain": [
       "{'type': 'FeatureCollection',\n",
       " 'features': [{'geometry': {'coordinates': [2.173403, 41.385063],\n",
       "    'crs': {'properties': {'name': 'EPSG:4326'}, 'type': 'name'},\n",
       "    'type': 'Point'},\n",
       "   'properties': {'name': 'Barcelona',\n",
       "    'felt:color': '#0000FF',\n",
       "    'felt:id': 'BNBv4Az8Tv6a213d52wS4A',\n",
       "    'felt:locked': False,\n",
       "    'felt:ordering': 1728582279324389,\n",
       "    'felt:symbol': 'dot',\n",
       "    'felt:type': 'Place'},\n",
       "   'type': 'Feature'}]}"
      ]
     },
     "execution_count": 14,
     "metadata": {},
     "output_type": "execute_result"
    }
   ],
   "source": [
    "# Update the Barcelona element, making it blue\n",
    "barcelona_element = [el for el in elements[\"features\"] if el[\"properties\"][\"name\"] == \"Barcelona\"][0]\n",
    "barcelona_element_id = barcelona_element[\"properties\"][\"felt:id\"]\n",
    "\n",
    "barcelona_element[\"properties\"][\"felt:color\"] = \"#0000FF\"\n",
    "barcelona_feature_collection = {\"type\": \"FeatureCollection\", \"features\": [barcelona_element]}\n",
    "post_elements(map_id, barcelona_feature_collection)"
   ]
  },
  {
   "cell_type": "markdown",
   "metadata": {},
   "source": [
    "# Make an element group\n",
    "\n",
    "And then add the previously-created elements to the group by assigning a `felt:parentId` property"
   ]
  },
  {
   "cell_type": "code",
   "execution_count": 15,
   "metadata": {},
   "outputs": [],
   "source": [
    "data = [{\n",
    "    \"name\": \"An element group created via the API\",\n",
    "    \"symbol\": \"dots\",\n",
    "}]\n",
    "response = post_element_group(map_id, data)"
   ]
  },
  {
   "cell_type": "code",
   "execution_count": 16,
   "metadata": {},
   "outputs": [
    {
     "data": {
      "text/plain": [
       "{'type': 'FeatureCollection',\n",
       " 'features': [{'geometry': {'coordinates': [-3.70379, 40.416775],\n",
       "    'crs': {'properties': {'name': 'EPSG:4326'}, 'type': 'name'},\n",
       "    'type': 'Point'},\n",
       "   'properties': {'name': 'Madrid',\n",
       "    'felt:color': '#C93535',\n",
       "    'felt:id': '9BlB5C1wYTvaWZP3WxkLnYB',\n",
       "    'felt:locked': False,\n",
       "    'felt:ordering': 1728582279322499,\n",
       "    'felt:parentId': 'QnUapbn9BShyfaG9B2OjLsSC',\n",
       "    'felt:symbol': 'dot',\n",
       "    'felt:type': 'Place'},\n",
       "   'type': 'Feature'},\n",
       "  {'geometry': {'coordinates': [2.173403, 41.385063],\n",
       "    'crs': {'properties': {'name': 'EPSG:4326'}, 'type': 'name'},\n",
       "    'type': 'Point'},\n",
       "   'properties': {'name': 'Barcelona',\n",
       "    'felt:color': '#0000FF',\n",
       "    'felt:id': 'BNBv4Az8Tv6a213d52wS4A',\n",
       "    'felt:locked': False,\n",
       "    'felt:ordering': 1728582279324389,\n",
       "    'felt:parentId': 'QnUapbn9BShyfaG9B2OjLsSC',\n",
       "    'felt:symbol': 'dot',\n",
       "    'felt:type': 'Place'},\n",
       "   'type': 'Feature'}]}"
      ]
     },
     "execution_count": 16,
     "metadata": {},
     "output_type": "execute_result"
    }
   ],
   "source": [
    "element_group_id = response[0][\"id\"]\n",
    "\n",
    "for feature in elements[\"features\"]:\n",
    "    feature[\"properties\"][\"felt:parentId\"] = element_group_id\n",
    "\n",
    "post_elements(map_id, elements)"
   ]
  },
  {
   "cell_type": "markdown",
   "metadata": {},
   "source": [
    "# Delete the Barcelona element"
   ]
  },
  {
   "cell_type": "code",
   "execution_count": 17,
   "metadata": {},
   "outputs": [],
   "source": [
    "delete_element(map_id, barcelona_element_id)"
   ]
  },
  {
   "cell_type": "markdown",
   "metadata": {},
   "source": [
    "## Delete map"
   ]
  },
  {
   "cell_type": "code",
   "execution_count": 18,
   "metadata": {},
   "outputs": [],
   "source": [
    "delete_map(map_id)"
   ]
  }
 ],
 "metadata": {
  "kernelspec": {
   "display_name": "Python 3 (ipykernel)",
   "language": "python",
   "name": "python3"
  },
  "language_info": {
   "codemirror_mode": {
    "name": "ipython",
    "version": 3
   },
   "file_extension": ".py",
   "mimetype": "text/x-python",
   "name": "python",
   "nbconvert_exporter": "python",
   "pygments_lexer": "ipython3",
   "version": "3.12.4"
  }
 },
 "nbformat": 4,
 "nbformat_minor": 4
}
