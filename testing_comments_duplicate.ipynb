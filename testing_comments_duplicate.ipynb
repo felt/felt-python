{
 "cells": [
  {
   "cell_type": "markdown",
   "metadata": {},
   "source": [
    "# Testing Comments and Duplication"
   ]
  },
  {
   "cell_type": "code",
   "execution_count": null,
   "metadata": {},
   "outputs": [],
   "source": [
    "import os\n",
    "\n",
    "from felt_python import (\n",
    "    create_map,\n",
    "    delete_map,\n",
    "    export_comments,\n",
    "    resolve_comment,\n",
    "    delete_comment,\n",
    "    duplicate_layers,\n",
    "    upload_file,\n",
    "    list_layers\n",
    ")\n",
    "\n",
    "os.environ[\"FELT_API_TOKEN\"] = \"<YOUR_API_TOKEN>\""
   ]
  },
  {
   "cell_type": "markdown",
   "metadata": {},
   "source": [
    "# Create maps for testing"
   ]
  },
  {
   "cell_type": "code",
   "execution_count": null,
   "metadata": {},
   "outputs": [],
   "source": [
    "# Create source map\n",
    "source_map = create_map(\n",
    "    title=\"Source Map for Testing\",\n",
    "    lat=40,\n",
    "    lon=-3,\n",
    "    zoom=5,\n",
    "    public_access=\"view_and_comment\"  # Allow comments\n",
    ")\n",
    "source_map_id = source_map[\"id\"]\n",
    "\n",
    "# Create destination map (for duplication)\n",
    "dest_map = create_map(\n",
    "    title=\"Destination Map for Testing\",\n",
    "    lat=40,\n",
    "    lon=-3,\n",
    "    zoom=5,\n",
    "    public_access=\"private\"\n",
    ")\n",
    "dest_map_id = dest_map[\"id\"]\n",
    "\n",
    "print(f\"Source map URL: {source_map['url']}\")\n",
    "print(f\"Destination map URL: {dest_map['url']}\")"
   ]
  },
  {
   "cell_type": "markdown",
   "metadata": {},
   "source": [
    "# Upload a layer to the source map"
   ]
  },
  {
   "cell_type": "code",
   "execution_count": null,
   "metadata": {},
   "outputs": [],
   "source": [
    "# Upload a layer to the source map\n",
    "layer_resp = upload_file(\n",
    "    map_id=source_map_id,\n",
    "    file_name=\"tests/fixtures/null-island-points.geojson\",\n",
    "    layer_name=\"Layer to duplicate\"\n",
    ")\n",
    "layer_id = layer_resp[\"layer_id\"]\n",
    "\n",
    "# Wait for layer processing\n",
    "import time\n",
    "print(\"Waiting for layer to process...\")\n",
    "time.sleep(10)"
   ]
  },
  {
   "cell_type": "markdown",
   "metadata": {},
   "source": [
    "# Export comments\n",
    "\n",
    "Note: This example assumes there are comments on the map. If you've just created the map, \n",
    "you'll need to add some comments through the Felt UI before running this code."
   ]
  },
  {
   "cell_type": "code",
   "execution_count": null,
   "metadata": {},
   "outputs": [],
   "source": [
    "# Export comments as JSON (default)\n",
    "comments_json = export_comments(source_map_id)\n",
    "print(f\"Number of comment threads: {len(comments_json)}\")\n",
    "\n",
    "# Export comments as CSV\n",
    "# comments_csv = export_comments(source_map_id, format=\"csv\")"
   ]
  },
  {
   "cell_type": "markdown",
   "metadata": {},
   "source": [
    "# Resolve a comment\n",
    "\n",
    "Note: Replace with a real comment ID from your map"
   ]
  },
  {
   "cell_type": "code",
   "execution_count": null,
   "metadata": {},
   "outputs": [],
   "source": [
    "# If you have comments from the export above, you can use one of those IDs\n",
    "if len(comments_json) > 0:\n",
    "    comment_id = comments_json[0].get(\"id\")\n",
    "    if comment_id:\n",
    "        resolve_result = resolve_comment(source_map_id, comment_id)\n",
    "        print(f\"Comment resolved: {resolve_result}\")\n",
    "else:\n",
    "    print(\"No comments available to resolve. Add comments through the Felt UI.\")"
   ]
  },
  {
   "cell_type": "markdown",
   "metadata": {},
   "source": [
    "# Delete a comment\n",
    "\n",
    "Note: Replace with a real comment ID from your map"
   ]
  },
  {
   "cell_type": "code",
   "execution_count": null,
   "metadata": {},
   "outputs": [],
   "source": [
    "# If you have comments from the export above, you can use one of those IDs\n",
    "if len(comments_json) > 1:\n",
    "    comment_id = comments_json[1].get(\"id\")\n",
    "    if comment_id:\n",
    "        delete_comment(source_map_id, comment_id)\n",
    "        print(f\"Comment deleted: {comment_id}\")\n",
    "else:\n",
    "    print(\"Not enough comments available to delete. Add comments through the Felt UI.\")"
   ]
  },
  {
   "cell_type": "markdown",
   "metadata": {},
   "source": [
    "# Export comments again to verify changes"
   ]
  },
  {
   "cell_type": "code",
   "execution_count": null,
   "metadata": {},
   "outputs": [],
   "source": [
    "updated_comments = export_comments(source_map_id)\n",
    "print(f\"Number of comment threads after modifications: {len(updated_comments)}\")"
   ]
  },
  {
   "cell_type": "markdown",
   "metadata": {},
   "source": [
    "# Duplicate a layer from source map to destination map"
   ]
  },
  {
   "cell_type": "code",
   "execution_count": null,
   "metadata": {},
   "outputs": [],
   "source": [
    "# Check the layers on the source map\n",
    "source_layers = list_layers(source_map_id)\n",
    "print(f\"Source map has {len(source_layers)} layers\")\n",
    "\n",
    "if len(source_layers) > 0:\n",
    "    source_layer_id = source_layers[0][\"id\"]\n",
    "    \n",
    "    # Duplicate the layer\n",
    "    duplication_params = [\n",
    "        {\n",
    "            \"source_layer_id\": source_layer_id,\n",
    "            \"destination_map_id\": dest_map_id\n",
    "        }\n",
    "    ]\n",
    "    \n",
    "    duplication_result = duplicate_layers(duplication_params)\n",
    "    print(f\"Duplicated {len(duplication_result['layers'])} layers\")\n",
    "    print(f\"Duplicated {len(duplication_result['layer_groups'])} layer groups\")\n",
    "    \n",
    "    # Check if duplication worked\n",
    "    dest_layers = list_layers(dest_map_id)\n",
    "    print(f\"Destination map now has {len(dest_layers)} layers\")"
   ]
  },
  {
   "cell_type": "markdown",
   "metadata": {},
   "source": [
    "# Duplicate a layer group\n",
    "\n",
    "Note: This assumes you have a layer group on your source map"
   ]
  },
  {
   "cell_type": "code",
   "execution_count": null,
   "metadata": {},
   "outputs": [],
   "source": [
    "# If the source map has layer groups, you can duplicate a group\n",
    "from felt_python import list_layer_groups\n",
    "\n",
    "source_groups = list_layer_groups(source_map_id)\n",
    "print(f\"Source map has {len(source_groups)} layer groups\")\n",
    "\n",
    "if len(source_groups) > 0:\n",
    "    source_group_id = source_groups[0][\"id\"]\n",
    "    \n",
    "    # Duplicate the layer group\n",
    "    group_duplication_params = [\n",
    "        {\n",
    "            \"source_layer_group_id\": source_group_id,\n",
    "            \"destination_map_id\": dest_map_id\n",
    "        }\n",
    "    ]\n",
    "    \n",
    "    group_duplication_result = duplicate_layers(group_duplication_params)\n",
    "    print(f\"Duplicated {len(group_duplication_result['layers'])} layers\")\n",
    "    print(f\"Duplicated {len(group_duplication_result['layer_groups'])} layer groups\")"
   ]
  },
  {
   "cell_type": "markdown",
   "metadata": {},
   "source": [
    "# Clean up"
   ]
  },
  {
   "cell_type": "code",
   "execution_count": null,
   "metadata": {},
   "outputs": [],
   "source": [
    "# Delete both maps\n",
    "delete_map(source_map_id)\n",
    "delete_map(dest_map_id)"
   ]
  }
 ],
 "metadata": {
  "kernelspec": {
   "display_name": "Python 3 (ipykernel)",
   "language": "python",
   "name": "python3"
  },
  "language_info": {
   "codemirror_mode": {
    "name": "ipython",
    "version": 3
   },
   "file_extension": ".py",
   "mimetype": "text/x-python",
   "name": "python",
   "nbconvert_exporter": "python",
   "pygments_lexer": "ipython3",
   "version": "3.10.13"
  }
 },
 "nbformat": 4,
 "nbformat_minor": 4
}