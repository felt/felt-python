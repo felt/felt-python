{
 "cells": [
  {
   "cell_type": "markdown",
   "metadata": {},
   "source": [
    "# Maps"
   ]
  },
  {
   "cell_type": "code",
   "execution_count": null,
   "metadata": {},
   "outputs": [],
   "source": [
    "import os\n",
    "\n",
    "from felt_python import (\n",
    "    create_map,\n",
    "    delete_map,\n",
    "    get_map,\n",
    "    update_map,\n",
    "    move_map,\n",
    "    export_comments,\n",
    "    resolve_comment,\n",
    "    delete_comment,\n",
    "    create_embed_token,\n",
    "    add_source_layer\n",
    ")\n",
    "\n",
    "os.environ[\"FELT_API_TOKEN\"] = \"<YOUR_API_TOKEN>\""
   ]
  },
  {
   "cell_type": "markdown",
   "metadata": {},
   "source": [
    "# Creating a new map\n",
    "\n",
    "Create a map and store it's ID in a variable"
   ]
  },
  {
   "cell_type": "code",
   "execution_count": null,
   "metadata": {},
   "outputs": [],
   "source": [
    "resp = create_map(\n",
    "    title=\"A felt-python map\",\n",
    "    lat=40,\n",
    "    lon=-3,\n",
    "    zoom=9,\n",
    "    basemap=\"light\",\n",
    "    public_access=\"private\",\n",
    "    description=\"A map created using the felt-python library\"\n",
    ")\n",
    "map_id = resp[\"id\"]"
   ]
  },
  {
   "cell_type": "markdown",
   "metadata": {},
   "source": [
    "# Retrieving details from an existing map"
   ]
  },
  {
   "cell_type": "code",
   "execution_count": null,
   "metadata": {},
   "outputs": [],
   "source": [
    "get_map(map_id)"
   ]
  },
  {
   "cell_type": "markdown",
   "metadata": {},
   "source": [
    "# Updating a map\n",
    "\n",
    "You can update a map's title, description and access permissions."
   ]
  },
  {
   "cell_type": "code",
   "execution_count": null,
   "metadata": {},
   "outputs": [],
   "source": [
    "resp = update_map(\n",
    "    map_id=map_id,\n",
    "    title=\"A felt-python map with an update\",\n",
    "    description=\"This map was updated through the API\",\n",
    "    public_access=\"view_only\"\n",
    ")"
   ]
  },
  {
   "cell_type": "markdown",
   "metadata": {},
   "source": [
    "# Export comments\n",
    "\n",
    "Note: This example assumes there are comments on the map. If you've just created the map, \n",
    "you'll need to add some comments through the Felt UI before running this code."
   ]
  },
  {
   "cell_type": "code",
   "execution_count": null,
   "metadata": {},
   "outputs": [],
   "source": [
    "# Export comments as JSON (default)\n",
    "comments_json = export_comments(map_id)\n",
    "print(f\"Number of comment threads: {len(comments_json)}\")\n",
    "comments_json\n",
    "\n",
    "# Export comments as CSV\n",
    "# comments_csv = export_comments(map_id, format=\"csv\")"
   ]
  },
  {
   "cell_type": "markdown",
   "metadata": {},
   "source": [
    "# Resolve a comment"
   ]
  },
  {
   "cell_type": "code",
   "execution_count": null,
   "metadata": {},
   "outputs": [],
   "source": [
    "# If you have comments from the export above, you can use one of those IDs\n",
    "if comment := comments_json[0]:\n",
    "    resolve_result = resolve_comment(map_id, comment['id'])\n",
    "    print(f\"Comment resolved: {resolve_result}\")\n"
   ]
  },
  {
   "cell_type": "markdown",
   "metadata": {},
   "source": [
    "# Delete a comment"
   ]
  },
  {
   "cell_type": "code",
   "execution_count": null,
   "metadata": {},
   "outputs": [],
   "source": [
    "if comment := comments_json[0]:\n",
    "    delete_comment(map_id, comment['id'])\n",
    "    print(f\"Comment deleted: {comment_id}\")\n"
   ]
  },
  {
   "cell_type": "markdown",
   "metadata": {},
   "source": [
    "# Creating an embed token\n",
    "\n",
    "You can create an embed token to allow embedding a private map securely in other applications."
   ]
  },
  {
   "cell_type": "code",
   "execution_count": null,
   "metadata": {},
   "outputs": [],
   "source": [
    "embed_token = create_embed_token(\n",
    "    map_id=map_id,\n",
    "    user_email=\"your.email@example.com\"  # Optional - allows exporting data if the map permits\n",
    ")\n",
    "\n",
    "print(f\"Token: {embed_token['token']}\")\n",
    "print(f\"Expires at: {embed_token['expires_at']}\")"
   ]
  },
  {
   "cell_type": "markdown",
   "metadata": {},
   "source": [
    "# Deleting a map"
   ]
  },
  {
   "cell_type": "code",
   "execution_count": null,
   "metadata": {},
   "outputs": [],
   "source": [
    "delete_map(map_id)"
   ]
  }
 ],
 "metadata": {
  "kernelspec": {
   "display_name": "Python 3 (ipykernel)",
   "language": "python",
   "name": "python3"
  },
  "language_info": {
   "codemirror_mode": {
    "name": "ipython",
    "version": 3
   },
   "file_extension": ".py",
   "mimetype": "text/x-python",
   "name": "python",
   "nbconvert_exporter": "python",
   "pygments_lexer": "ipython3",
   "version": "3.10.13"
  }
 },
 "nbformat": 4,
 "nbformat_minor": 4
}
