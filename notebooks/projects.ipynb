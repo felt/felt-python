{
 "cells": [
  {
   "cell_type": "markdown",
   "metadata": {},
   "source": [
    "# Projects"
   ]
  },
  {
   "cell_type": "code",
   "execution_count": null,
   "metadata": {},
   "outputs": [],
   "source": [
    "import os\n",
    "\n",
    "from felt_python import (\n",
    "    list_projects,\n",
    "    create_project,\n",
    "    get_project,\n",
    "    update_project,\n",
    "    delete_project,\n",
    "    create_map,\n",
    "    move_map,\n",
    "    delete_map\n",
    ")\n",
    "\n",
    "os.environ[\"FELT_API_TOKEN\"] = \"<YOUR_API_TOKEN>\""
   ]
  },
  {
   "cell_type": "markdown",
   "metadata": {},
   "source": [
    "# List available projects"
   ]
  },
  {
   "cell_type": "code",
   "execution_count": null,
   "metadata": {},
   "outputs": [],
   "source": [
    "projects = list_projects()\n",
    "projects"
   ]
  },
  {
   "cell_type": "markdown",
   "metadata": {},
   "source": [
    "# Create a new project"
   ]
  },
  {
   "cell_type": "code",
   "execution_count": null,
   "metadata": {},
   "outputs": [],
   "source": [
    "project = create_project(\n",
    "    name=\"API Test Project\",\n",
    "    visibility=\"private\"  # Options: \"workspace\" or \"private\"\n",
    ")\n",
    "project_id = project[\"id\"]\n",
    "project"
   ]
  },
  {
   "cell_type": "markdown",
   "metadata": {},
   "source": [
    "# Get project details"
   ]
  },
  {
   "cell_type": "code",
   "execution_count": null,
   "metadata": {},
   "outputs": [],
   "source": [
    "project_details = get_project(project_id)\n",
    "project_details"
   ]
  },
  {
   "cell_type": "markdown",
   "metadata": {},
   "source": [
    "# Update a project"
   ]
  },
  {
   "cell_type": "code",
   "execution_count": null,
   "metadata": {},
   "outputs": [],
   "source": [
    "updated_project = update_project(\n",
    "    project_id=project_id,\n",
    "    name=\"Updated API Test Project\",\n",
    "    visibility=\"workspace\"  # Change visibility to workspace-wide\n",
    ")\n",
    "updated_project"
   ]
  },
  {
   "cell_type": "markdown",
   "metadata": {},
   "source": [
    "# Create a map and move it to the project"
   ]
  },
  {
   "cell_type": "code",
   "execution_count": null,
   "metadata": {},
   "outputs": [],
   "source": [
    "# Create a map\n",
    "map_resp = create_map(\n",
    "    title=\"Map for testing projects\",\n",
    "    lat=37.7749,\n",
    "    lon=-122.4194,  # San Francisco\n",
    "    zoom=12,\n",
    "    public_access=\"private\"\n",
    ")\n",
    "map_id = map_resp[\"id\"]\n",
    "\n",
    "# Move the map to our new project\n",
    "moved_map = move_map(\n",
    "    map_id=map_id,\n",
    "    project_id=project_id\n",
    ")\n",
    "moved_map"
   ]
  },
  {
   "cell_type": "markdown",
   "metadata": {},
   "source": [
    "# Verify the map was moved\n",
    "\n",
    "Check that the map now appears in the project"
   ]
  },
  {
   "cell_type": "code",
   "execution_count": null,
   "metadata": {},
   "outputs": [],
   "source": [
    "project_with_map = get_project(project_id)\n",
    "project_maps = project_with_map.get(\"maps\", [])\n",
    "print(f\"Number of maps in project: {len(project_maps)}\")\n",
    "\n",
    "# Check if our map is in the project\n",
    "map_in_project = any(m[\"id\"] == map_id for m in project_maps)\n",
    "print(f\"Our map is in the project: {map_in_project}\")"
   ]
  },
  {
   "cell_type": "markdown",
   "metadata": {},
   "source": [
    "# Clean up\n",
    "\n",
    "Delete the map and project we created"
   ]
  },
  {
   "cell_type": "code",
   "execution_count": null,
   "metadata": {},
   "outputs": [],
   "source": [
    "# Delete the map\n",
    "delete_map(map_id)\n",
    "\n",
    "# Delete the project\n",
    "delete_project(project_id)\n",
    "\n",
    "# Verify project is gone\n",
    "projects_after = list_projects()\n",
    "print(f\"Project still exists: {any(p['id'] == project_id for p in projects_after)}\")"
   ]
  }
 ],
 "metadata": {
  "kernelspec": {
   "display_name": "Python 3 (ipykernel)",
   "language": "python",
   "name": "python3"
  },
  "language_info": {
   "codemirror_mode": {
    "name": "ipython",
    "version": 3
   },
   "file_extension": ".py",
   "mimetype": "text/x-python",
   "name": "python",
   "nbconvert_exporter": "python",
   "pygments_lexer": "ipython3",
   "version": "3.10.13"
  }
 },
 "nbformat": 4,
 "nbformat_minor": 4
}