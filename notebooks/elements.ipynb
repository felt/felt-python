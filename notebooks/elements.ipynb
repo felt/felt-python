{
 "cells": [
  {
   "cell_type": "markdown",
   "metadata": {},
   "source": [
    "# Map Elements"
   ]
  },
  {
   "cell_type": "code",
   "execution_count": null,
   "metadata": {},
   "outputs": [],
   "source": [
    "import os\n",
    "\n",
    "from felt_python import (\n",
    "    create_map,\n",
    "    delete_map,\n",
    "    list_elements,\n",
    "    list_element_groups,\n",
    "    get_element_group,\n",
    "    upsert_elements,\n",
    "    delete_element,\n",
    "    upsert_element_groups\n",
    ")\n",
    "\n",
    "os.environ[\"FELT_API_TOKEN\"] = \"<YOUR_API_TOKEN>\""
   ]
  },
  {
   "cell_type": "markdown",
   "metadata": {},
   "source": [
    "# Maps\n",
    "\n",
    "Create a map and retrieve its details, storing the ID in a variable"
   ]
  },
  {
   "cell_type": "code",
   "execution_count": null,
   "metadata": {},
   "outputs": [],
   "source": [
    "resp = create_map(\n",
    "    title=\"A felt-python map for testing elements\",\n",
    "    lat=40,\n",
    "    lon=-3,\n",
    "    zoom=8,\n",
    "    public_access=\"private\",\n",
    ")\n",
    "map_id = resp[\"id\"]\n",
    "resp[\"url\"]"
   ]
  },
  {
   "cell_type": "markdown",
   "metadata": {},
   "source": [
    "# Create elements\n",
    "\n",
    "Create pins in Madrid and Barcelona"
   ]
  },
  {
   "cell_type": "code",
   "execution_count": null,
   "metadata": {},
   "outputs": [],
   "source": [
    "# GeoJSON with points for Madrid and Barcelona\n",
    "geojson_feature_collection = {\n",
    "    \"type\": \"FeatureCollection\",\n",
    "    \"features\": [\n",
    "        {\n",
    "            \"type\": \"Feature\",\n",
    "            \"geometry\": {\"type\": \"Point\", \"coordinates\": [-3.70379, 40.416775]},\n",
    "            \"properties\": {\"name\": \"Madrid\"},\n",
    "        },\n",
    "        {\n",
    "            \"type\": \"Feature\",\n",
    "            \"geometry\": {\"type\": \"Point\", \"coordinates\": [2.173403, 41.385063]},\n",
    "            \"properties\": {\"name\": \"Barcelona\"},\n",
    "        },\n",
    "    ],\n",
    "}\n",
    "\n",
    "upsert_elements(map_id, geojson_feature_collection)"
   ]
  },
  {
   "cell_type": "markdown",
   "metadata": {},
   "source": [
    "# List elements"
   ]
  },
  {
   "cell_type": "code",
   "execution_count": null,
   "metadata": {},
   "outputs": [],
   "source": [
    "elements = list_elements(map_id)\n",
    "elements"
   ]
  },
  {
   "cell_type": "markdown",
   "metadata": {},
   "source": [
    "# Update elements\n",
    "\n",
    "Update the Barcelona pin's color to blue"
   ]
  },
  {
   "cell_type": "code",
   "execution_count": null,
   "metadata": {},
   "outputs": [],
   "source": [
    "# Update the Barcelona element, making it blue\n",
    "barcelona_element = [el for el in elements[\"features\"] if el[\"properties\"][\"name\"] == \"Barcelona\"][0]\n",
    "barcelona_element_id = barcelona_element[\"properties\"][\"felt:id\"]\n",
    "\n",
    "barcelona_element[\"properties\"][\"felt:color\"] = \"#0000FF\"\n",
    "barcelona_feature_collection = {\"type\": \"FeatureCollection\", \"features\": [barcelona_element]}\n",
    "upsert_elements(map_id, barcelona_feature_collection)"
   ]
  },
  {
   "cell_type": "markdown",
   "metadata": {},
   "source": [
    "# List Element Groups\n",
    "\n",
    "First, list any existing element groups (should be empty for a new map)"
   ]
  },
  {
   "cell_type": "code",
   "execution_count": null,
   "metadata": {},
   "outputs": [],
   "source": [
    "existing_groups = list_element_groups(map_id)\n",
    "existing_groups"
   ]
  },
  {
   "cell_type": "markdown",
   "metadata": {},
   "source": [
    "# Create element groups"
   ]
  },
  {
   "cell_type": "code",
   "execution_count": null,
   "metadata": {},
   "outputs": [],
   "source": [
    "multiple_groups = [\n",
    "    {\n",
    "        \"name\": \"Spanish cities\",\n",
    "        \"symbol\": \"monument\",\n",
    "        \"color\": \"#A02CFA\"\n",
    "    },\n",
    "    {\n",
    "        \"name\": \"Parks\",\n",
    "        \"symbol\": \"tree\",\n",
    "        \"color\": \"#00AA55\"\n",
    "    }\n",
    "]\n",
    "\n",
    "created_groups = upsert_element_groups(map_id, multiple_groups)\n",
    "created_groups"
   ]
  },
  {
   "cell_type": "code",
   "execution_count": null,
   "metadata": {},
   "outputs": [],
   "source": [
    "# Get all element groups after creation\n",
    "all_groups = list_element_groups(map_id)\n",
    "all_groups"
   ]
  },
  {
   "cell_type": "markdown",
   "metadata": {},
   "source": [
    "# Add previously-created elements to a group\n",
    "\n",
    "Assign elements to the \"Spanish Cities\" group by adding `felt:parentId` property"
   ]
  },
  {
   "cell_type": "code",
   "execution_count": null,
   "metadata": {},
   "outputs": [],
   "source": [
    "# Get the ID of the first group (\"Spanish Cities\")\n",
    "element_group_id = all_groups[0][\"id\"]\n",
    "\n",
    "# Add all elements to this group\n",
    "for feature in elements[\"features\"]:\n",
    "    feature[\"properties\"][\"felt:parentId\"] = element_group_id\n",
    "\n",
    "# Update the elements\n",
    "upsert_elements(map_id, elements)"
   ]
  },
  {
   "cell_type": "markdown",
   "metadata": {},
   "source": [
    "# List elements in a specific group"
   ]
  },
  {
   "cell_type": "code",
   "execution_count": null,
   "metadata": {},
   "outputs": [],
   "source": [
    "group_elements = get_element_group(map_id, element_group_id)\n",
    "group_elements"
   ]
  },
  {
   "cell_type": "markdown",
   "metadata": {},
   "source": [
    "# Create more elements with group assignment\n",
    "\n",
    "Create elements directly assigned to a group"
   ]
  },
  {
   "cell_type": "code",
   "execution_count": null,
   "metadata": {},
   "outputs": [],
   "source": [
    "# Get the Parks group ID (should be the second group)\n",
    "parks_group_id = all_groups[1][\"id\"]\n",
    "\n",
    "# Create park elements with group assignment\n",
    "parks_geojson = {\n",
    "    \"type\": \"FeatureCollection\",\n",
    "    \"features\": [\n",
    "        {\n",
    "            \"type\": \"Feature\",\n",
    "            \"geometry\": {\"type\": \"Point\", \"coordinates\": [-3.6762, 40.4153]},\n",
    "            \"properties\": {\n",
    "                \"name\": \"Retiro Park\",\n",
    "                \"felt:parentId\": parks_group_id\n",
    "            },\n",
    "        },\n",
    "        {\n",
    "            \"type\": \"Feature\",\n",
    "            \"geometry\": {\"type\": \"Point\", \"coordinates\": [2.1526, 41.3851]},\n",
    "            \"properties\": {\n",
    "                \"name\": \"Parc de la Ciutadella\",\n",
    "                \"felt:parentId\": parks_group_id\n",
    "            },\n",
    "        },\n",
    "    ],\n",
    "}\n",
    "\n",
    "upsert_elements(map_id, parks_geojson)"
   ]
  },
  {
   "cell_type": "markdown",
   "metadata": {},
   "source": [
    "# Delete the Barcelona element"
   ]
  },
  {
   "cell_type": "code",
   "execution_count": null,
   "metadata": {},
   "outputs": [],
   "source": [
    "delete_element(map_id, barcelona_element_id)"
   ]
  },
  {
   "cell_type": "markdown",
   "metadata": {},
   "source": [
    "# Verify Barcelona element is gone"
   ]
  },
  {
   "cell_type": "code",
   "execution_count": null,
   "metadata": {},
   "outputs": [],
   "source": [
    "updated_elements = list_elements(map_id)\n",
    "barcelona_elements = [el for el in updated_elements[\"features\"] if el[\"properties\"].get(\"name\") == \"Barcelona\"]\n",
    "print(f\"Barcelona elements found: {len(barcelona_elements)}\")"
   ]
  },
  {
   "cell_type": "markdown",
   "metadata": {},
   "source": [
    "## Delete map"
   ]
  },
  {
   "cell_type": "code",
   "execution_count": null,
   "metadata": {},
   "outputs": [],
   "source": [
    "delete_map(map_id)"
   ]
  }
 ],
 "metadata": {
  "kernelspec": {
   "display_name": "Python 3 (ipykernel)",
   "language": "python",
   "name": "python3"
  },
  "language_info": {
   "codemirror_mode": {
    "name": "ipython",
    "version": 3
   },
   "file_extension": ".py",
   "mimetype": "text/x-python",
   "name": "python",
   "nbconvert_exporter": "python",
   "pygments_lexer": "ipython3",
   "version": "3.12.4"
  }
 },
 "nbformat": 4,
 "nbformat_minor": 4
}