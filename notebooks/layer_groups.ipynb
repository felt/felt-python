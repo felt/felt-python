{
 "cells": [
  {
   "cell_type": "markdown",
   "metadata": {},
   "source": [
    "# Map Layer Groups"
   ]
  },
  {
   "cell_type": "code",
   "execution_count": null,
   "metadata": {},
   "outputs": [],
   "source": [
    "import os\n",
    "import time\n",
    "\n",
    "from felt_python import (\n",
    "    create_map,\n",
    "    delete_map,\n",
    "    list_layer_groups,\n",
    "    get_layer_group,\n",
    "    update_layer_groups,\n",
    "    delete_layer_group,\n",
    "    publish_layer_group,\n",
    "    update_layers,\n",
    "    get_layer,\n",
    "    upload_file\n",
    ")\n",
    "\n",
    "os.environ[\"FELT_API_TOKEN\"] = \"<YOUR_API_TOKEN>\""
   ]
  },
  {
   "cell_type": "markdown",
   "metadata": {},
   "source": [
    "# Create a map for testing"
   ]
  },
  {
   "cell_type": "code",
   "execution_count": null,
   "metadata": {},
   "outputs": [],
   "source": [
    "resp = create_map(\n",
    "    title=\"A felt-python map for testing layer groups\",\n",
    "    lat=40,\n",
    "    lon=-3,\n",
    "    zoom=5,\n",
    "    public_access=\"private\",\n",
    ")\n",
    "map_id = resp[\"id\"]\n",
    "resp[\"url\"]"
   ]
  },
  {
   "cell_type": "markdown",
   "metadata": {},
   "source": [
    "# Upload some layers to work with\n",
    "\n",
    "We'll upload a few layers to organize into groups"
   ]
  },
  {
   "cell_type": "code",
   "execution_count": null,
   "metadata": {},
   "outputs": [],
   "source": [
    "# Upload first layer\n",
    "layer1_resp = upload_file(\n",
    "    map_id=map_id,\n",
    "    file_name=\"fixtures/null-island-points-sample.geojson\",\n",
    "    layer_name=\"Points Layer\"\n",
    ")\n",
    "layer1_id = layer1_resp[\"layer_id\"]\n",
    "\n",
    "# Upload second layer\n",
    "layer2_resp = upload_file(\n",
    "    map_id=map_id,\n",
    "    file_name=\"fixtures/null-island-polygons-wkt.csv\",\n",
    "    layer_name=\"Polygons Layer\"\n",
    ")\n",
    "layer2_id = layer2_resp[\"layer_id\"]\n",
    "\n",
    "# Wait for processing to complete\n",
    "while get_layer(map_id, layer1_id)[\"progress\"] < 100:\n",
    "    print(\"Waiting for layer to finish processing...\")\n",
    "    time.sleep(5)",
    "while get_layer(map_id, layer2_id)[\"progress\"] < 100:\n",
    "    print(\"Waiting for layer to finish processing...\")\n",
    "    time.sleep(5)",
    "print(\"Layers ready...\")\n"
   ]
  },
  {
   "cell_type": "markdown",
   "metadata": {},
   "source": [
    "# List existing layer groups\n",
    "\n",
    "Initially, there should be no layer groups"
   ]
  },
  {
   "cell_type": "code",
   "execution_count": null,
   "metadata": {},
   "outputs": [],
   "source": [
    "initial_groups = list_layer_groups(map_id)\n",
    "initial_groups"
   ]
  },
  {
   "cell_type": "markdown",
   "metadata": {},
   "source": [
    "# Create layer groups\n",
    "\n",
    "Create groups and assign layers to them"
   ]
  },
  {
   "cell_type": "code",
   "execution_count": null,
   "metadata": {},
   "outputs": [],
   "source": [
    "# Create two layer groups\n",
    "layer_groups = [\n",
    "    {\n",
    "        \"name\": \"Vector Data\",\n",
    "        \"caption\": \"A collection of vector datasets\"\n",
    "    },\n",
    "    {\n",
    "        \"name\": \"Base Data\",\n",
    "        \"caption\": \"Reference layers\"\n",
    "    }\n",
    "]\n",
    "\n",
    "created_groups = update_layer_groups(map_id, layer_groups)\n",
    "created_groups"
   ]
  },
  {
   "cell_type": "markdown",
   "metadata": {},
   "source": [
    "# Retrieve a specific layer group's details"
   ]
  },
  {
   "cell_type": "code",
   "execution_count": null,
   "metadata": {},
   "outputs": [],
   "source": [
    "# Get details for the first group\n",
    "group_id = created_groups[0][\"id\"]\n",
    "group_details = get_layer_group(map_id, group_id)\n",
    "group_details"
   ]
  },
  {
   "cell_type": "markdown",
   "metadata": {},
   "source": [
    "# Update layer groups\n",
    "\n",
    "Update the groups to change properties"
   ]
  },
  {
   "cell_type": "code",
   "execution_count": null,
   "metadata": {},
   "outputs": [],
   "source": [
    "# Retrieve current groups\n",
    "current_groups = list_layer_groups(map_id)\n",
    "group1_id = current_groups[0][\"id\"]\n",
    "group2_id = current_groups[1][\"id\"]\n",
    "\n",
    "# Update the groups\n",
    "updated_groups = [\n",
    "    {\n",
    "        \"id\": group1_id,\n",
    "        \"name\": \"Vector Data (Updated)\",\n",
    "        \"caption\": \"A collection of vector datasets (updated)\",\n",
    "        \"ordering_key\": 1\n",
    "    },\n",
    "    {\n",
    "        \"id\": group2_id,\n",
    "        \"name\": \"Base Data (Updated)\",\n",
    "        \"caption\": \"Reference layers (updated)\",\n",
    "        \"ordering_key\": 2\n",
    "    }\n",
    "]\n",
    "\n",
    "result = update_layer_groups(map_id, updated_groups)\n",
    "result"
   ]
  },
  {
   "cell_type": "markdown",
   "metadata": {},
   "source": [
    "# Update layers to assign them to groups\n"
   ]
  },
  {
   "cell_type": "code",
   "execution_count": null,
   "metadata": {},
   "outputs": [],
   "source": [
    "# Prepare updates for both layers\n",
    "layer_updates = [\n",
    "    {\n",
    "        \"id\": layer1_id\n",
    "        \"layer_group_id\": group1_id,\n",
    "    },\n",
    "    {\n",
    "        \"id\": layer2_id\n",
    "        \"layer_group_id\": group2_id,\n",
    "    }\n",
    "]\n",
    "\n",
    "updated_layers = update_layers(map_id, layer_updates)"
   ]
  },
  {
   "cell_type": "markdown",
   "metadata": {},
   "source": [
    "# Publish a layer group to the library"
   ]
  },
  {
   "cell_type": "code",
   "execution_count": null,
   "metadata": {},
   "outputs": [],
   "source": [
    "# Publish the first group\n",
    "published_group = publish_layer_group(\n",
    "    map_id=map_id,\n",
    "    layer_group_id=group1_id,\n",
    "    name=\"Published Vector Data\"\n",
    ")\n",
    "published_group"
   ]
  },
  {
   "cell_type": "markdown",
   "metadata": {},
   "source": [
    "# Delete a layer group"
   ]
  },
  {
   "cell_type": "code",
   "execution_count": null,
   "metadata": {},
   "outputs": [],
   "source": [
    "# Delete the second group\n",
    "delete_layer_group(map_id, group2_id)\n",
    "\n",
    "# Verify deletion\n",
    "remaining_groups = list_layer_groups(map_id)\n",
    "print(f\"Groups remaining: {len(remaining_groups)}\")\n",
    "remaining_groups"
   ]
  },
  {
   "cell_type": "markdown",
   "metadata": {},
   "source": [
    "# Clean up"
   ]
  },
  {
   "cell_type": "code",
   "execution_count": null,
   "metadata": {},
   "outputs": [],
   "source": [
    "delete_map(map_id)"
   ]
  }
 ],
 "metadata": {
  "kernelspec": {
   "display_name": "Python 3 (ipykernel)",
   "language": "python",
   "name": "python3"
  },
  "language_info": {
   "codemirror_mode": {
    "name": "ipython",
    "version": 3
   },
   "file_extension": ".py",
   "mimetype": "text/x-python",
   "name": "python",
   "nbconvert_exporter": "python",
   "pygments_lexer": "ipython3",
   "version": "3.10.13"
  }
 },
 "nbformat": 4,
 "nbformat_minor": 4
}